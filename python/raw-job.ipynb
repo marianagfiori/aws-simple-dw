{
 "cells": [
  {
   "cell_type": "code",
   "execution_count": 2,
   "metadata": {},
   "outputs": [],
   "source": [
    "%idle_timeout 2880\n",
    "%glue_version 3.0\n",
    "%worker_type G.1X\n",
    "%number_of_workers 5\n",
    "\n",
    "from awsglue.transforms import *\n",
    "from awsglue.utils import getResolvedOptions\n",
    "from pyspark.context import SparkContext\n",
    "from awsglue.context import GlueContext\n",
    "from awsglue.job import Job\n",
    "from aws.dynamicframe import DynamicFrame\n",
    "\n",
    "sc = SparkContext.getOrCreate()\n",
    "glueContext = GlueContext(sc)\n",
    "spark = glueContext.spark_session\n",
    "job = Job(glueContext)\n"
   ]
  },
  {
   "cell_type": "code",
   "execution_count": 6,
   "metadata": {},
   "outputs": [
    {
     "name": "stdout",
     "output_type": "stream",
     "text": [
      "['product_category_name_translation_csv', 'olist_sellers_dataset_csv', 'olist_orders_dataset_csv', 'olist_products_dataset_csv', 'olist_order_payments_dataset_csv', 'olist_order_reviews_dataset_csv', 'olist_order_items_dataset_csv', 'olist_customers_dataset_csv', 'olist_geolocation_dataset_csv']\n"
     ]
    }
   ],
   "source": [
    "# retorna o nome das tabelas que foram atualizadas pela última vez\n",
    "def return_last_updated_tables(response):\n",
    "    tables = sorted(response['TableList'], key=lambda k: k['UpdateTime'], reverse=True)\n",
    "    last_updated_tables = []\n",
    "    for i in range(len(tables)):\n",
    "        table = tables[i]\n",
    "        last_updated_tables.append(table['Name'])\n",
    "    return last_updated_tables\n",
    "\n",
    "# salva as tabelas no bucket cleaned\n",
    "def save_in_cleaned(last_updated_tables):\n",
    "    for table in last_updated_tables:\n",
    "        table_name=table\n",
    "        dynamic_frame = glueContext.create_dynamic_frame.from_catalog(\n",
    "            database = 'olist-project-raw',\n",
    "            table_name = table_name,\n",
    "            transformation_ctx = 'read_csv'\n",
    "        )\n",
    "        parquet_frame = dynamic_frame.toDF().write.format('parquet').save('s3://olist-project-dw/cleaned/' + table_name + '.parquet')\n",
    "        return print('Tabelas carregadas com sucesso!')"
   ]
  },
  {
   "cell_type": "code",
   "execution_count": null,
   "metadata": {},
   "outputs": [],
   "source": [
    "try:\n",
    "    glue = boto3.client('glue')\n",
    "    response = glue.get_tables(DatabaseName='olist-project-raw')\n",
    "except Exception as e:\n",
    "    print(\"Ocorreu um erro ao acessar o AWS Glue:\")\n",
    "    print(str(e))"
   ]
  },
  {
   "cell_type": "code",
   "execution_count": null,
   "metadata": {},
   "outputs": [],
   "source": [
    "try:\n",
    "    last_updated_tables = return_last_updated_tables(response)\n",
    "    save_in_cleaned(last_updated_tables)\n",
    "except Exception as e:\n",
    "    print(\"Uma excessão ocorreu ao salvar as tabelas no bucket 'cleaned': \")\n",
    "    print(str(e))"
   ]
  }
 ],
 "metadata": {
  "kernelspec": {
   "display_name": "Python 3",
   "language": "python",
   "name": "python3"
  },
  "language_info": {
   "codemirror_mode": {
    "name": "ipython",
    "version": 3
   },
   "file_extension": ".py",
   "mimetype": "text/x-python",
   "name": "python",
   "nbconvert_exporter": "python",
   "pygments_lexer": "ipython3",
   "version": "3.10.6"
  },
  "orig_nbformat": 4
 },
 "nbformat": 4,
 "nbformat_minor": 2
}
